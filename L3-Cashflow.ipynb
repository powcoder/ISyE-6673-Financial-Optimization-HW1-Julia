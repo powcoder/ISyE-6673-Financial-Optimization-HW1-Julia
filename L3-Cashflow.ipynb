{
 "cells": [
  {
   "cell_type": "markdown",
   "metadata": {},
   "source": [
    "# Optimization modeling in Julia\n",
    "\n",
    "In this notebook we describe how to formulate and solve an optimization problem using mathematical programming tools in Julia."
   ]
  },
  {
   "cell_type": "markdown",
   "metadata": {},
   "source": [
    "## Step 0: Setup\n",
    "\n",
    "### Step 0.1: load packages\n",
    "\n",
    "We can load packages using the `using` keyword:"
   ]
  },
  {
   "cell_type": "code",
   "execution_count": null,
   "metadata": {},
   "outputs": [],
   "source": [
    "using JuMP, Gurobi"
   ]
  },
  {
   "cell_type": "markdown",
   "metadata": {},
   "source": [
    "### Step 0.2: set up problem data"
   ]
  },
  {
   "cell_type": "markdown",
   "metadata": {},
   "source": [
    "Recall that we are trying to solve the following optimization problem:\n",
    "$$\n",
    "\\begin{aligned}\n",
    "\\max z_6\\\\\n",
    "\\text{ s.t.}\\\\\n",
    "-x_1 &-  y_1 & & & & & + & z_1 & =&& -150\\\\\n",
    "-x_2 &-  y_2 & + & 1.01x_1 & - & 1.003z_1 & + & z_2 &=&& -100\\\\\n",
    "-x_3 &-  y_3 & + & 1.01x_2 & - & 1.003z_2 & + & z_3 &=&& 200\\\\\n",
    "-x_4 &+  1.02y_1 & + & 1.01x_3 & - & 1.003z_3 & + & z_4 &=&& -200\\\\\n",
    "-x_5 &+  1.02y_2 & + & 1.01x_4 & - & 1.003z_4 & + & z_5 &=&& 50\\\\\n",
    " &+  1.02y_3 & + & 1.01x_5 & - & 1.003z_5 & + & z_6 &=&& 300\\\\\n",
    "& & & & & & & x_i& \\le&& 100 &\\quad\\forall i=1,\\ldots,5\\\\\n",
    "& & & & & & & x_i& \\ge&& 0 &\\quad\\forall i=1,\\ldots,5\\\\\n",
    "& & & & & & & y_i& \\ge&& 0 &\\quad\\forall i=1,\\ldots,3\\\\\n",
    "& & & & & & & z_i& \\ge&& 0 &\\quad\\forall i=1,\\ldots,6\\\\\n",
    "\\end{aligned}\n",
    "$$\n",
    "\n",
    "Accordingly, we will define the cash flow requirements for each month as a vector:"
   ]
  },
  {
   "cell_type": "code",
   "execution_count": null,
   "metadata": {},
   "outputs": [],
   "source": [
    "cash_flow_requirements = [-150, -100, 200, -200, 50, 300]"
   ]
  },
  {
   "cell_type": "markdown",
   "metadata": {},
   "source": [
    "## Step 1: Formulate the optimization problem in JuMP\n",
    "\n",
    "### Step 1.1: create a JuMP model object\n",
    "\n",
    "A JuMP model is a container that holds all the ingredients of our optimization model"
   ]
  },
  {
   "cell_type": "code",
   "execution_count": null,
   "metadata": {},
   "outputs": [],
   "source": [
    "model = JuMP.Model()"
   ]
  },
  {
   "cell_type": "markdown",
   "metadata": {},
   "source": [
    "At this point our model is quite sad and empty, so let's build it up!"
   ]
  },
  {
   "cell_type": "markdown",
   "metadata": {},
   "source": [
    "### Step 1.2: attach a solver to our JuMP model\n",
    "\n",
    "For clarity, in JuMP a \"solver\" refers to an actual third-party solver software (e.g. Gurobi) that we use to solve optimization problems, while an \"optimizer\" refers to the Julia interface for the solver software."
   ]
  },
  {
   "cell_type": "code",
   "execution_count": null,
   "metadata": {},
   "outputs": [],
   "source": [
    "set_optimizer(model, Gurobi.Optimizer)"
   ]
  },
  {
   "cell_type": "markdown",
   "metadata": {},
   "source": [
    "### Step 1.3: decision variables\n",
    "\n",
    "We're now ready to define decision variables and their associated bounds."
   ]
  },
  {
   "cell_type": "code",
   "execution_count": null,
   "metadata": {},
   "outputs": [],
   "source": [
    "@variable(model, 0 <= x[1:5] <= 100)\n",
    "@variable(model, y[1:3] >= 0)\n",
    "@variable(model, z[1:6] >= 0)\n",
    "model"
   ]
  },
  {
   "cell_type": "markdown",
   "metadata": {},
   "source": [
    "The above output is not very legible, so we can actually print out our model in math notation as follows:"
   ]
  },
  {
   "cell_type": "code",
   "execution_count": null,
   "metadata": {},
   "outputs": [],
   "source": [
    "print(model)"
   ]
  },
  {
   "cell_type": "markdown",
   "metadata": {},
   "source": [
    "Note that the above print function is a bit dangerous when the optimization problem is very large, as writing down each constraint in this way may create huge amounts of input."
   ]
  },
  {
   "cell_type": "markdown",
   "metadata": {},
   "source": [
    "### Step 1.4: Constraints\n",
    "\n",
    "Now we're ready to add the constraints of the optimization problem to our model container!"
   ]
  },
  {
   "cell_type": "code",
   "execution_count": null,
   "metadata": {},
   "outputs": [],
   "source": [
    "# Note that Julia indexes arrays from 1\n",
    "# Remember to use == for equality constraints and not =\n",
    "@constraint(model, January,  -x[1] - y[1] + z[1] == cash_flow_requirements[1])\n",
    "@constraint(model, February, -x[2] - y[2] + 1.01x[1] - 1.003z[1] + z[2] == cash_flow_requirements[2])\n",
    "@constraint(model, March,    -x[3] - y[3] + 1.01x[2] - 1.003z[2] + z[3] == cash_flow_requirements[3])\n",
    "@constraint(model, April,    -x[4] + 1.02y[1] + 1.01x[3] - 1.003z[3] + z[4] == cash_flow_requirements[4])\n",
    "@constraint(model, May,      -x[5] + 1.02y[2] + 1.01x[4] - 1.003z[4] + z[5] == cash_flow_requirements[5])\n",
    "@constraint(model, June,     1.02y[3] + 1.01x[5] - 1.003z[5] + z[6] == cash_flow_requirements[6])"
   ]
  },
  {
   "cell_type": "markdown",
   "metadata": {},
   "source": [
    "Let's take a look at our model!"
   ]
  },
  {
   "cell_type": "code",
   "execution_count": null,
   "metadata": {},
   "outputs": [],
   "source": [
    "print(model)"
   ]
  },
  {
   "cell_type": "markdown",
   "metadata": {},
   "source": [
    "### Step 1.5: Objective\n",
    "\n",
    "Notice that the first line of the problem description is \"feasibility\". That's because we haven't yet defined an objective! Let's do it now:"
   ]
  },
  {
   "cell_type": "code",
   "execution_count": null,
   "metadata": {},
   "outputs": [],
   "source": [
    "@objective(model, Max, z[6])"
   ]
  },
  {
   "cell_type": "markdown",
   "metadata": {},
   "source": [
    "## Step 2: solving the problem and inspecting the solution\n",
    "\n",
    "We're now ready to solve the problem! We can call on Gurobi to do its magic using the ``optimize!`` function"
   ]
  },
  {
   "cell_type": "code",
   "execution_count": null,
   "metadata": {},
   "outputs": [],
   "source": [
    "# In Julia, an exclamation mark at the end of a function name means it is changing/mutating its argument\n",
    "optimize!(model)"
   ]
  },
  {
   "cell_type": "markdown",
   "metadata": {},
   "source": [
    "We can take a look at the objective value by reading the log, or by extracting it directly:"
   ]
  },
  {
   "cell_type": "code",
   "execution_count": null,
   "metadata": {},
   "outputs": [],
   "source": [
    "objective_value(model)"
   ]
  },
  {
   "cell_type": "markdown",
   "metadata": {},
   "source": [
    "And similarly we can obtain the optimal variable values:"
   ]
  },
  {
   "cell_type": "code",
   "execution_count": null,
   "metadata": {},
   "outputs": [],
   "source": [
    "value(y[1])"
   ]
  },
  {
   "cell_type": "code",
   "execution_count": null,
   "metadata": {},
   "outputs": [],
   "source": [
    "value(x)"
   ]
  },
  {
   "cell_type": "markdown",
   "metadata": {},
   "source": [
    "Oops! Calling `value` on a vector of variables doesn't work directly, but we can get around that using a list comprehension:"
   ]
  },
  {
   "cell_type": "code",
   "execution_count": null,
   "metadata": {},
   "outputs": [],
   "source": [
    "optimal_x_values = [value(x[i]) for i=eachindex(x)]"
   ]
  },
  {
   "cell_type": "markdown",
   "metadata": {},
   "source": [
    "Alternatively, we can use unique Julia syntax to \"vectorize\" the `value` function:"
   ]
  },
  {
   "cell_type": "code",
   "execution_count": null,
   "metadata": {},
   "outputs": [],
   "source": [
    "optimal_x_values = value.(x)"
   ]
  },
  {
   "cell_type": "markdown",
   "metadata": {},
   "source": [
    "## Step 3: sensitivity report"
   ]
  },
  {
   "cell_type": "markdown",
   "metadata": {},
   "source": [
    "Much like in Excel, we can query the sensitivity information we need:"
   ]
  },
  {
   "cell_type": "code",
   "execution_count": null,
   "metadata": {},
   "outputs": [],
   "source": [
    "# @show is a nifty little tool that executes a line of code and also displays the value - great for debugging!\n",
    "@show shadow_price(January)\n",
    "@show shadow_price(March); # the semicolon suppresses output to the console"
   ]
  },
  {
   "cell_type": "code",
   "execution_count": null,
   "metadata": {},
   "outputs": [],
   "source": [
    "@show reduced_cost(x[1]);"
   ]
  },
  {
   "cell_type": "markdown",
   "metadata": {},
   "source": [
    "If we also want the allowable ranges, we have to do a little bit more work:"
   ]
  },
  {
   "cell_type": "code",
   "execution_count": null,
   "metadata": {},
   "outputs": [],
   "source": [
    "report = lp_sensitivity_report(model)\n",
    "@show report[January]; # we see the maximum allowable decrease and increase"
   ]
  },
  {
   "cell_type": "markdown",
   "metadata": {},
   "source": [
    "## Appendix: some JuMP syntax that may be useful"
   ]
  },
  {
   "cell_type": "code",
   "execution_count": null,
   "metadata": {},
   "outputs": [],
   "source": [
    "model = Model(Gurobi.Optimizer)"
   ]
  },
  {
   "cell_type": "code",
   "execution_count": null,
   "metadata": {},
   "outputs": [],
   "source": [
    "# creating \"ragged\" arrays of variables\n",
    "@variable(model, x[i=1:5, j=1:i^2] >= i^2);"
   ]
  },
  {
   "cell_type": "code",
   "execution_count": null,
   "metadata": {},
   "outputs": [],
   "source": [
    "# creating multiple constraints and summing over variables\n",
    "@constraint(model, sumconstraint[i=1:5], sum(x[i, j] for j = 1:i^2 if j % 2 == 0) >= 0);"
   ]
  },
  {
   "cell_type": "code",
   "execution_count": null,
   "metadata": {},
   "outputs": [],
   "source": [
    "A = [1 0 ; 0 1]"
   ]
  },
  {
   "cell_type": "code",
   "execution_count": null,
   "metadata": {},
   "outputs": [],
   "source": [
    "model = Model(Gurobi.Optimizer)"
   ]
  },
  {
   "cell_type": "code",
   "execution_count": null,
   "metadata": {},
   "outputs": [],
   "source": [
    "@variable(model, x[1:2] >= 0)"
   ]
  },
  {
   "cell_type": "code",
   "execution_count": null,
   "metadata": {},
   "outputs": [],
   "source": [
    "b = [3, 2]"
   ]
  },
  {
   "cell_type": "code",
   "execution_count": null,
   "metadata": {},
   "outputs": [],
   "source": [
    "@constraint(model, A * x .<= b)"
   ]
  },
  {
   "cell_type": "code",
   "execution_count": null,
   "metadata": {},
   "outputs": [],
   "source": []
  }
 ],
 "metadata": {
  "@webio": {
   "lastCommId": null,
   "lastKernelId": null
  },
  "kernelspec": {
   "display_name": "Julia 1.7.3",
   "language": "julia",
   "name": "julia-1.7"
  },
  "language_info": {
   "file_extension": ".jl",
   "mimetype": "application/julia",
   "name": "julia",
   "version": "1.7.3"
  }
 },
 "nbformat": 4,
 "nbformat_minor": 4
}
